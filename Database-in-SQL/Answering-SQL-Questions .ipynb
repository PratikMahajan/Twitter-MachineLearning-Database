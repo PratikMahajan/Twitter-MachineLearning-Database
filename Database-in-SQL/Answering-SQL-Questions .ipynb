{
 "cells": [
  {
   "cell_type": "markdown",
   "metadata": {},
   "source": [
    "# Data Management and Database Design\n",
    "\n",
    "## Answering SQL Questions\n",
    "\n",
    "\n",
    "### Write SQL statements to do the following on project database:\n"
   ]
  },
  {
   "cell_type": "code",
   "execution_count": 1,
   "metadata": {},
   "outputs": [],
   "source": [
    "import sqlite3\n",
    "import pandas as pd"
   ]
  },
  {
   "cell_type": "code",
   "execution_count": 2,
   "metadata": {},
   "outputs": [],
   "source": [
    "connection = sqlite3.connect(\"projectTwit.db\")\n",
    "cursor = connection.cursor()\n",
    "cursor2= connection.cursor()"
   ]
  },
  {
   "cell_type": "markdown",
   "metadata": {},
   "source": [
    "## 1. Select columns"
   ]
  },
  {
   "cell_type": "code",
   "execution_count": 3,
   "metadata": {},
   "outputs": [
    {
     "data": {
      "text/html": [
       "<div>\n",
       "<style scoped>\n",
       "    .dataframe tbody tr th:only-of-type {\n",
       "        vertical-align: middle;\n",
       "    }\n",
       "\n",
       "    .dataframe tbody tr th {\n",
       "        vertical-align: top;\n",
       "    }\n",
       "\n",
       "    .dataframe thead th {\n",
       "        text-align: right;\n",
       "    }\n",
       "</style>\n",
       "<table border=\"1\" class=\"dataframe\">\n",
       "  <thead>\n",
       "    <tr style=\"text-align: right;\">\n",
       "      <th></th>\n",
       "      <th>user_id</th>\n",
       "      <th>user_name</th>\n",
       "    </tr>\n",
       "  </thead>\n",
       "  <tbody>\n",
       "    <tr>\n",
       "      <th>0</th>\n",
       "      <td>@ExpoDX</td>\n",
       "      <td>DXWorldEXPO ®</td>\n",
       "    </tr>\n",
       "    <tr>\n",
       "      <th>1</th>\n",
       "      <td>@TechNewsRprt</td>\n",
       "      <td>TechNews Report</td>\n",
       "    </tr>\n",
       "    <tr>\n",
       "      <th>2</th>\n",
       "      <td>@ScopeOnline</td>\n",
       "      <td>SCOPE</td>\n",
       "    </tr>\n",
       "    <tr>\n",
       "      <th>3</th>\n",
       "      <td>@nschaetti</td>\n",
       "      <td>NS.ai (Nils Schaetti)</td>\n",
       "    </tr>\n",
       "    <tr>\n",
       "      <th>4</th>\n",
       "      <td>@gabrielanthonyp</td>\n",
       "      <td>GabrielAnthony P.</td>\n",
       "    </tr>\n",
       "    <tr>\n",
       "      <th>5</th>\n",
       "      <td>@AffideaIreland</td>\n",
       "      <td>Affidea Ireland</td>\n",
       "    </tr>\n",
       "    <tr>\n",
       "      <th>6</th>\n",
       "      <td>@freetoopt</td>\n",
       "      <td>freetoopt</td>\n",
       "    </tr>\n",
       "    <tr>\n",
       "      <th>7</th>\n",
       "      <td>@Chuck_Moeller</td>\n",
       "      <td>Chuck@SteamGear</td>\n",
       "    </tr>\n",
       "    <tr>\n",
       "      <th>8</th>\n",
       "      <td>@Shuks_07</td>\n",
       "      <td>Saurabh Shukla</td>\n",
       "    </tr>\n",
       "    <tr>\n",
       "      <th>9</th>\n",
       "      <td>@RelevantTrack</td>\n",
       "      <td>Relevant Track</td>\n",
       "    </tr>\n",
       "  </tbody>\n",
       "</table>\n",
       "</div>"
      ],
      "text/plain": [
       "            user_id              user_name\n",
       "0           @ExpoDX          DXWorldEXPO ®\n",
       "1     @TechNewsRprt        TechNews Report\n",
       "2      @ScopeOnline                  SCOPE\n",
       "3        @nschaetti  NS.ai (Nils Schaetti)\n",
       "4  @gabrielanthonyp      GabrielAnthony P.\n",
       "5   @AffideaIreland        Affidea Ireland\n",
       "6        @freetoopt              freetoopt\n",
       "7    @Chuck_Moeller        Chuck@SteamGear\n",
       "8         @Shuks_07         Saurabh Shukla\n",
       "9    @RelevantTrack         Relevant Track"
      ]
     },
     "execution_count": 3,
     "metadata": {},
     "output_type": "execute_result"
    }
   ],
   "source": [
    "output= \"SELECT user_id, user_name from user limit 10\"\n",
    "cursor.execute(output)\n",
    "pd.DataFrame(cursor.fetchall(), columns=['user_id','user_name'])"
   ]
  },
  {
   "cell_type": "markdown",
   "metadata": {},
   "source": [
    "## 2. Filter rows"
   ]
  },
  {
   "cell_type": "code",
   "execution_count": 4,
   "metadata": {},
   "outputs": [
    {
     "data": {
      "text/html": [
       "<div>\n",
       "<style scoped>\n",
       "    .dataframe tbody tr th:only-of-type {\n",
       "        vertical-align: middle;\n",
       "    }\n",
       "\n",
       "    .dataframe tbody tr th {\n",
       "        vertical-align: top;\n",
       "    }\n",
       "\n",
       "    .dataframe thead th {\n",
       "        text-align: right;\n",
       "    }\n",
       "</style>\n",
       "<table border=\"1\" class=\"dataframe\">\n",
       "  <thead>\n",
       "    <tr style=\"text-align: right;\">\n",
       "      <th></th>\n",
       "      <th>user_id</th>\n",
       "      <th>user_name</th>\n",
       "      <th>followers</th>\n",
       "      <th>following</th>\n",
       "      <th>tweet_count</th>\n",
       "    </tr>\n",
       "  </thead>\n",
       "  <tbody>\n",
       "    <tr>\n",
       "      <th>0</th>\n",
       "      <td>@evankirstel</td>\n",
       "      <td>Evan Kirstel is at #MWC18!</td>\n",
       "      <td>171102</td>\n",
       "      <td>165217</td>\n",
       "      <td>618354</td>\n",
       "    </tr>\n",
       "    <tr>\n",
       "      <th>1</th>\n",
       "      <td>@grattonboy</td>\n",
       "      <td>Dean Anthony Gratton</td>\n",
       "      <td>345866</td>\n",
       "      <td>14218</td>\n",
       "      <td>227188</td>\n",
       "    </tr>\n",
       "    <tr>\n",
       "      <th>2</th>\n",
       "      <td>@Wipro</td>\n",
       "      <td>Wipro Limited</td>\n",
       "      <td>371224</td>\n",
       "      <td>866</td>\n",
       "      <td>19580</td>\n",
       "    </tr>\n",
       "    <tr>\n",
       "      <th>3</th>\n",
       "      <td>@KirkDBorne</td>\n",
       "      <td>Kirk Borne</td>\n",
       "      <td>187943</td>\n",
       "      <td>44551</td>\n",
       "      <td>83188</td>\n",
       "    </tr>\n",
       "    <tr>\n",
       "      <th>4</th>\n",
       "      <td>@Merca20</td>\n",
       "      <td>Merca2.0</td>\n",
       "      <td>501742</td>\n",
       "      <td>45906</td>\n",
       "      <td>161242</td>\n",
       "    </tr>\n",
       "    <tr>\n",
       "      <th>5</th>\n",
       "      <td>@m_kayveas</td>\n",
       "      <td>MKayveas</td>\n",
       "      <td>153029</td>\n",
       "      <td>1905</td>\n",
       "      <td>47610</td>\n",
       "    </tr>\n",
       "    <tr>\n",
       "      <th>6</th>\n",
       "      <td>@TheNationalUAE</td>\n",
       "      <td>The National</td>\n",
       "      <td>890112</td>\n",
       "      <td>149</td>\n",
       "      <td>100484</td>\n",
       "    </tr>\n",
       "    <tr>\n",
       "      <th>7</th>\n",
       "      <td>@grattongirl</td>\n",
       "      <td>Sarah-Jayne Gratton</td>\n",
       "      <td>359695</td>\n",
       "      <td>29343</td>\n",
       "      <td>198150</td>\n",
       "    </tr>\n",
       "    <tr>\n",
       "      <th>8</th>\n",
       "      <td>@ChristopherIsak</td>\n",
       "      <td>Christopher Isak</td>\n",
       "      <td>200876</td>\n",
       "      <td>729</td>\n",
       "      <td>32850</td>\n",
       "    </tr>\n",
       "    <tr>\n",
       "      <th>9</th>\n",
       "      <td>@LouisSerge</td>\n",
       "      <td>Louis-Serge</td>\n",
       "      <td>1055876</td>\n",
       "      <td>81140</td>\n",
       "      <td>43718</td>\n",
       "    </tr>\n",
       "  </tbody>\n",
       "</table>\n",
       "</div>"
      ],
      "text/plain": [
       "            user_id                   user_name  followers  following  \\\n",
       "0      @evankirstel  Evan Kirstel is at #MWC18!     171102     165217   \n",
       "1       @grattonboy        Dean Anthony Gratton     345866      14218   \n",
       "2            @Wipro               Wipro Limited     371224        866   \n",
       "3       @KirkDBorne                  Kirk Borne     187943      44551   \n",
       "4          @Merca20                    Merca2.0     501742      45906   \n",
       "5        @m_kayveas                    MKayveas     153029       1905   \n",
       "6   @TheNationalUAE                The National     890112        149   \n",
       "7      @grattongirl         Sarah-Jayne Gratton     359695      29343   \n",
       "8  @ChristopherIsak            Christopher Isak     200876        729   \n",
       "9       @LouisSerge                 Louis-Serge    1055876      81140   \n",
       "\n",
       "   tweet_count  \n",
       "0       618354  \n",
       "1       227188  \n",
       "2        19580  \n",
       "3        83188  \n",
       "4       161242  \n",
       "5        47610  \n",
       "6       100484  \n",
       "7       198150  \n",
       "8        32850  \n",
       "9        43718  "
      ]
     },
     "execution_count": 4,
     "metadata": {},
     "output_type": "execute_result"
    }
   ],
   "source": [
    "output= \"SELECT * from user where followers>150000\"\n",
    "cursor.execute(output)\n",
    "pd.DataFrame(cursor.fetchall(), columns=['user_id','user_name','followers','following','tweet_count'])"
   ]
  },
  {
   "cell_type": "markdown",
   "metadata": {},
   "source": [
    "## 3. Sort your query"
   ]
  },
  {
   "cell_type": "code",
   "execution_count": 5,
   "metadata": {},
   "outputs": [
    {
     "data": {
      "text/html": [
       "<div>\n",
       "<style scoped>\n",
       "    .dataframe tbody tr th:only-of-type {\n",
       "        vertical-align: middle;\n",
       "    }\n",
       "\n",
       "    .dataframe tbody tr th {\n",
       "        vertical-align: top;\n",
       "    }\n",
       "\n",
       "    .dataframe thead th {\n",
       "        text-align: right;\n",
       "    }\n",
       "</style>\n",
       "<table border=\"1\" class=\"dataframe\">\n",
       "  <thead>\n",
       "    <tr style=\"text-align: right;\">\n",
       "      <th></th>\n",
       "      <th>user_id</th>\n",
       "      <th>followers</th>\n",
       "    </tr>\n",
       "  </thead>\n",
       "  <tbody>\n",
       "    <tr>\n",
       "      <th>0</th>\n",
       "      <td>@LouisSerge</td>\n",
       "      <td>1055876</td>\n",
       "    </tr>\n",
       "    <tr>\n",
       "      <th>1</th>\n",
       "      <td>@TheNationalUAE</td>\n",
       "      <td>890112</td>\n",
       "    </tr>\n",
       "    <tr>\n",
       "      <th>2</th>\n",
       "      <td>@Merca20</td>\n",
       "      <td>501742</td>\n",
       "    </tr>\n",
       "    <tr>\n",
       "      <th>3</th>\n",
       "      <td>@Wipro</td>\n",
       "      <td>371224</td>\n",
       "    </tr>\n",
       "    <tr>\n",
       "      <th>4</th>\n",
       "      <td>@grattongirl</td>\n",
       "      <td>359695</td>\n",
       "    </tr>\n",
       "    <tr>\n",
       "      <th>5</th>\n",
       "      <td>@grattonboy</td>\n",
       "      <td>345866</td>\n",
       "    </tr>\n",
       "    <tr>\n",
       "      <th>6</th>\n",
       "      <td>@ChristopherIsak</td>\n",
       "      <td>200876</td>\n",
       "    </tr>\n",
       "    <tr>\n",
       "      <th>7</th>\n",
       "      <td>@KirkDBorne</td>\n",
       "      <td>187943</td>\n",
       "    </tr>\n",
       "    <tr>\n",
       "      <th>8</th>\n",
       "      <td>@evankirstel</td>\n",
       "      <td>171102</td>\n",
       "    </tr>\n",
       "    <tr>\n",
       "      <th>9</th>\n",
       "      <td>@m_kayveas</td>\n",
       "      <td>153029</td>\n",
       "    </tr>\n",
       "  </tbody>\n",
       "</table>\n",
       "</div>"
      ],
      "text/plain": [
       "            user_id  followers\n",
       "0       @LouisSerge    1055876\n",
       "1   @TheNationalUAE     890112\n",
       "2          @Merca20     501742\n",
       "3            @Wipro     371224\n",
       "4      @grattongirl     359695\n",
       "5       @grattonboy     345866\n",
       "6  @ChristopherIsak     200876\n",
       "7       @KirkDBorne     187943\n",
       "8      @evankirstel     171102\n",
       "9        @m_kayveas     153029"
      ]
     },
     "execution_count": 5,
     "metadata": {},
     "output_type": "execute_result"
    }
   ],
   "source": [
    "output= \"SELECT user_id, followers from user where followers>150000 order by followers desc \"\n",
    "cursor.execute(output)\n",
    "pd.DataFrame(cursor.fetchall(), columns=['user_id','followers'])"
   ]
  },
  {
   "cell_type": "markdown",
   "metadata": {},
   "source": [
    "## 4. Group by an attribute"
   ]
  },
  {
   "cell_type": "code",
   "execution_count": 6,
   "metadata": {},
   "outputs": [
    {
     "data": {
      "text/html": [
       "<div>\n",
       "<style scoped>\n",
       "    .dataframe tbody tr th:only-of-type {\n",
       "        vertical-align: middle;\n",
       "    }\n",
       "\n",
       "    .dataframe tbody tr th {\n",
       "        vertical-align: top;\n",
       "    }\n",
       "\n",
       "    .dataframe thead th {\n",
       "        text-align: right;\n",
       "    }\n",
       "</style>\n",
       "<table border=\"1\" class=\"dataframe\">\n",
       "  <thead>\n",
       "    <tr style=\"text-align: right;\">\n",
       "      <th></th>\n",
       "      <th>Tweet_id</th>\n",
       "      <th>Count of Tweets</th>\n",
       "    </tr>\n",
       "  </thead>\n",
       "  <tbody>\n",
       "    <tr>\n",
       "      <th>0</th>\n",
       "      <td>2018-02-26</td>\n",
       "      <td>1430</td>\n",
       "    </tr>\n",
       "    <tr>\n",
       "      <th>1</th>\n",
       "      <td>2018-02-28</td>\n",
       "      <td>604</td>\n",
       "    </tr>\n",
       "    <tr>\n",
       "      <th>2</th>\n",
       "      <td>2018-03-30</td>\n",
       "      <td>507</td>\n",
       "    </tr>\n",
       "    <tr>\n",
       "      <th>3</th>\n",
       "      <td>2018-03-14</td>\n",
       "      <td>486</td>\n",
       "    </tr>\n",
       "    <tr>\n",
       "      <th>4</th>\n",
       "      <td>2018-03-12</td>\n",
       "      <td>483</td>\n",
       "    </tr>\n",
       "    <tr>\n",
       "      <th>5</th>\n",
       "      <td>2018-03-19</td>\n",
       "      <td>480</td>\n",
       "    </tr>\n",
       "  </tbody>\n",
       "</table>\n",
       "</div>"
      ],
      "text/plain": [
       "     Tweet_id  Count of Tweets\n",
       "0  2018-02-26             1430\n",
       "1  2018-02-28              604\n",
       "2  2018-03-30              507\n",
       "3  2018-03-14              486\n",
       "4  2018-03-12              483\n",
       "5  2018-03-19              480"
      ]
     },
     "execution_count": 6,
     "metadata": {},
     "output_type": "execute_result"
    }
   ],
   "source": [
    "output= \"SELECT date, count(*) as srt from tweet_details group by date order by srt desc limit 10 \"\n",
    "cursor.execute(output)\n",
    "pd.DataFrame(cursor.fetchall(), columns=['Tweet_id','Count of Tweets'])"
   ]
  },
  {
   "cell_type": "markdown",
   "metadata": {},
   "source": [
    "## 5. Calculate an aggregate function on an attribute of the group."
   ]
  },
  {
   "cell_type": "code",
   "execution_count": 7,
   "metadata": {},
   "outputs": [
    {
     "data": {
      "text/html": [
       "<div>\n",
       "<style scoped>\n",
       "    .dataframe tbody tr th:only-of-type {\n",
       "        vertical-align: middle;\n",
       "    }\n",
       "\n",
       "    .dataframe tbody tr th {\n",
       "        vertical-align: top;\n",
       "    }\n",
       "\n",
       "    .dataframe thead th {\n",
       "        text-align: right;\n",
       "    }\n",
       "</style>\n",
       "<table border=\"1\" class=\"dataframe\">\n",
       "  <thead>\n",
       "    <tr style=\"text-align: right;\">\n",
       "      <th></th>\n",
       "      <th>Date</th>\n",
       "      <th>Sum Of Retweets</th>\n",
       "    </tr>\n",
       "  </thead>\n",
       "  <tbody>\n",
       "    <tr>\n",
       "      <th>0</th>\n",
       "      <td>2018-03-14</td>\n",
       "      <td>150350</td>\n",
       "    </tr>\n",
       "    <tr>\n",
       "      <th>1</th>\n",
       "      <td>2018-03-19</td>\n",
       "      <td>75672</td>\n",
       "    </tr>\n",
       "    <tr>\n",
       "      <th>2</th>\n",
       "      <td>2018-02-26</td>\n",
       "      <td>61994</td>\n",
       "    </tr>\n",
       "    <tr>\n",
       "      <th>3</th>\n",
       "      <td>2018-03-12</td>\n",
       "      <td>35911</td>\n",
       "    </tr>\n",
       "    <tr>\n",
       "      <th>4</th>\n",
       "      <td>2018-02-28</td>\n",
       "      <td>32427</td>\n",
       "    </tr>\n",
       "    <tr>\n",
       "      <th>5</th>\n",
       "      <td>2018-03-30</td>\n",
       "      <td>25414</td>\n",
       "    </tr>\n",
       "  </tbody>\n",
       "</table>\n",
       "</div>"
      ],
      "text/plain": [
       "         Date  Sum Of Retweets\n",
       "0  2018-03-14           150350\n",
       "1  2018-03-19            75672\n",
       "2  2018-02-26            61994\n",
       "3  2018-03-12            35911\n",
       "4  2018-02-28            32427\n",
       "5  2018-03-30            25414"
      ]
     },
     "execution_count": 7,
     "metadata": {},
     "output_type": "execute_result"
    }
   ],
   "source": [
    "output= \"SELECT date, sum(retweets) as srt from tweet_details group by date order by srt desc limit 10 \"\n",
    "cursor.execute(output)\n",
    "pd.DataFrame(cursor.fetchall(), columns=['Date','Sum Of Retweets'])"
   ]
  },
  {
   "cell_type": "markdown",
   "metadata": {},
   "source": [
    "## 6. Use DISTINCT keyword will make it so it only returns one instance of each attribute"
   ]
  },
  {
   "cell_type": "code",
   "execution_count": 8,
   "metadata": {},
   "outputs": [
    {
     "data": {
      "text/html": [
       "<div>\n",
       "<style scoped>\n",
       "    .dataframe tbody tr th:only-of-type {\n",
       "        vertical-align: middle;\n",
       "    }\n",
       "\n",
       "    .dataframe tbody tr th {\n",
       "        vertical-align: top;\n",
       "    }\n",
       "\n",
       "    .dataframe thead th {\n",
       "        text-align: right;\n",
       "    }\n",
       "</style>\n",
       "<table border=\"1\" class=\"dataframe\">\n",
       "  <thead>\n",
       "    <tr style=\"text-align: right;\">\n",
       "      <th></th>\n",
       "      <th>user_id</th>\n",
       "    </tr>\n",
       "  </thead>\n",
       "  <tbody>\n",
       "    <tr>\n",
       "      <th>0</th>\n",
       "      <td>@09raptor</td>\n",
       "    </tr>\n",
       "    <tr>\n",
       "      <th>1</th>\n",
       "      <td>@0fz3</td>\n",
       "    </tr>\n",
       "    <tr>\n",
       "      <th>2</th>\n",
       "      <td>@0xddaa</td>\n",
       "    </tr>\n",
       "    <tr>\n",
       "      <th>3</th>\n",
       "      <td>@16AKG</td>\n",
       "    </tr>\n",
       "    <tr>\n",
       "      <th>4</th>\n",
       "      <td>@1_Sgr_plz</td>\n",
       "    </tr>\n",
       "    <tr>\n",
       "      <th>5</th>\n",
       "      <td>@1stInSEO</td>\n",
       "    </tr>\n",
       "    <tr>\n",
       "      <th>6</th>\n",
       "      <td>@2018SocialMedia</td>\n",
       "    </tr>\n",
       "    <tr>\n",
       "      <th>7</th>\n",
       "      <td>@2050Age</td>\n",
       "    </tr>\n",
       "    <tr>\n",
       "      <th>8</th>\n",
       "      <td>@2601Manish</td>\n",
       "    </tr>\n",
       "    <tr>\n",
       "      <th>9</th>\n",
       "      <td>@28421o</td>\n",
       "    </tr>\n",
       "  </tbody>\n",
       "</table>\n",
       "</div>"
      ],
      "text/plain": [
       "            user_id\n",
       "0         @09raptor\n",
       "1             @0fz3\n",
       "2           @0xddaa\n",
       "3            @16AKG\n",
       "4        @1_Sgr_plz\n",
       "5         @1stInSEO\n",
       "6  @2018SocialMedia\n",
       "7          @2050Age\n",
       "8       @2601Manish\n",
       "9           @28421o"
      ]
     },
     "execution_count": 8,
     "metadata": {},
     "output_type": "execute_result"
    }
   ],
   "source": [
    "output= \"SELECT Distinct user_id  from tweet limit 10 \"\n",
    "cursor.execute(output)\n",
    "pd.DataFrame(cursor.fetchall(), columns=['user_id'])"
   ]
  },
  {
   "cell_type": "markdown",
   "metadata": {},
   "source": [
    "## 7. Create a column that is calculated from other columns."
   ]
  },
  {
   "cell_type": "code",
   "execution_count": 9,
   "metadata": {},
   "outputs": [
    {
     "data": {
      "text/html": [
       "<div>\n",
       "<style scoped>\n",
       "    .dataframe tbody tr th:only-of-type {\n",
       "        vertical-align: middle;\n",
       "    }\n",
       "\n",
       "    .dataframe tbody tr th {\n",
       "        vertical-align: top;\n",
       "    }\n",
       "\n",
       "    .dataframe thead th {\n",
       "        text-align: right;\n",
       "    }\n",
       "</style>\n",
       "<table border=\"1\" class=\"dataframe\">\n",
       "  <thead>\n",
       "    <tr style=\"text-align: right;\">\n",
       "      <th></th>\n",
       "      <th>tweet_id</th>\n",
       "      <th>Retweets</th>\n",
       "      <th>favourate</th>\n",
       "      <th>SUM</th>\n",
       "    </tr>\n",
       "  </thead>\n",
       "  <tbody>\n",
       "    <tr>\n",
       "      <th>0</th>\n",
       "      <td>968036614202150912</td>\n",
       "      <td>2</td>\n",
       "      <td>0</td>\n",
       "      <td>2</td>\n",
       "    </tr>\n",
       "    <tr>\n",
       "      <th>1</th>\n",
       "      <td>968036597634564096</td>\n",
       "      <td>2</td>\n",
       "      <td>1</td>\n",
       "      <td>3</td>\n",
       "    </tr>\n",
       "    <tr>\n",
       "      <th>2</th>\n",
       "      <td>968036559638482944</td>\n",
       "      <td>77</td>\n",
       "      <td>0</td>\n",
       "      <td>77</td>\n",
       "    </tr>\n",
       "    <tr>\n",
       "      <th>3</th>\n",
       "      <td>968036540193673216</td>\n",
       "      <td>2</td>\n",
       "      <td>0</td>\n",
       "      <td>2</td>\n",
       "    </tr>\n",
       "    <tr>\n",
       "      <th>4</th>\n",
       "      <td>968036522153869312</td>\n",
       "      <td>0</td>\n",
       "      <td>0</td>\n",
       "      <td>0</td>\n",
       "    </tr>\n",
       "    <tr>\n",
       "      <th>5</th>\n",
       "      <td>968036431066271744</td>\n",
       "      <td>23</td>\n",
       "      <td>0</td>\n",
       "      <td>23</td>\n",
       "    </tr>\n",
       "    <tr>\n",
       "      <th>6</th>\n",
       "      <td>968036419095670787</td>\n",
       "      <td>2</td>\n",
       "      <td>0</td>\n",
       "      <td>2</td>\n",
       "    </tr>\n",
       "    <tr>\n",
       "      <th>7</th>\n",
       "      <td>968036417887596544</td>\n",
       "      <td>4</td>\n",
       "      <td>0</td>\n",
       "      <td>4</td>\n",
       "    </tr>\n",
       "    <tr>\n",
       "      <th>8</th>\n",
       "      <td>968036376263438336</td>\n",
       "      <td>0</td>\n",
       "      <td>0</td>\n",
       "      <td>0</td>\n",
       "    </tr>\n",
       "    <tr>\n",
       "      <th>9</th>\n",
       "      <td>968036316238700544</td>\n",
       "      <td>0</td>\n",
       "      <td>0</td>\n",
       "      <td>0</td>\n",
       "    </tr>\n",
       "    <tr>\n",
       "      <th>10</th>\n",
       "      <td>968036309636874240</td>\n",
       "      <td>8</td>\n",
       "      <td>0</td>\n",
       "      <td>8</td>\n",
       "    </tr>\n",
       "    <tr>\n",
       "      <th>11</th>\n",
       "      <td>968036300111646720</td>\n",
       "      <td>1</td>\n",
       "      <td>0</td>\n",
       "      <td>1</td>\n",
       "    </tr>\n",
       "    <tr>\n",
       "      <th>12</th>\n",
       "      <td>968036297507041280</td>\n",
       "      <td>7</td>\n",
       "      <td>0</td>\n",
       "      <td>7</td>\n",
       "    </tr>\n",
       "    <tr>\n",
       "      <th>13</th>\n",
       "      <td>968036242184134658</td>\n",
       "      <td>0</td>\n",
       "      <td>0</td>\n",
       "      <td>0</td>\n",
       "    </tr>\n",
       "    <tr>\n",
       "      <th>14</th>\n",
       "      <td>968036238514114560</td>\n",
       "      <td>0</td>\n",
       "      <td>1</td>\n",
       "      <td>1</td>\n",
       "    </tr>\n",
       "  </tbody>\n",
       "</table>\n",
       "</div>"
      ],
      "text/plain": [
       "              tweet_id  Retweets  favourate  SUM\n",
       "0   968036614202150912         2          0    2\n",
       "1   968036597634564096         2          1    3\n",
       "2   968036559638482944        77          0   77\n",
       "3   968036540193673216         2          0    2\n",
       "4   968036522153869312         0          0    0\n",
       "5   968036431066271744        23          0   23\n",
       "6   968036419095670787         2          0    2\n",
       "7   968036417887596544         4          0    4\n",
       "8   968036376263438336         0          0    0\n",
       "9   968036316238700544         0          0    0\n",
       "10  968036309636874240         8          0    8\n",
       "11  968036300111646720         1          0    1\n",
       "12  968036297507041280         7          0    7\n",
       "13  968036242184134658         0          0    0\n",
       "14  968036238514114560         0          1    1"
      ]
     },
     "execution_count": 9,
     "metadata": {},
     "output_type": "execute_result"
    }
   ],
   "source": [
    "output= \"SELECT tweet_id,retweets, favourate, retweets+favourate as SUM from tweet_details limit 15  \"\n",
    "cursor.execute(output)\n",
    "pd.DataFrame(cursor.fetchall(), columns=['tweet_id','Retweets','favourate','SUM'])"
   ]
  },
  {
   "cell_type": "markdown",
   "metadata": {},
   "source": [
    "## 8. Count all of the null values in a nullable field"
   ]
  },
  {
   "cell_type": "code",
   "execution_count": 10,
   "metadata": {},
   "outputs": [
    {
     "data": {
      "text/html": [
       "<div>\n",
       "<style scoped>\n",
       "    .dataframe tbody tr th:only-of-type {\n",
       "        vertical-align: middle;\n",
       "    }\n",
       "\n",
       "    .dataframe tbody tr th {\n",
       "        vertical-align: top;\n",
       "    }\n",
       "\n",
       "    .dataframe thead th {\n",
       "        text-align: right;\n",
       "    }\n",
       "</style>\n",
       "<table border=\"1\" class=\"dataframe\">\n",
       "  <thead>\n",
       "    <tr style=\"text-align: right;\">\n",
       "      <th></th>\n",
       "      <th>Number of NULL Columns</th>\n",
       "    </tr>\n",
       "  </thead>\n",
       "  <tbody>\n",
       "    <tr>\n",
       "      <th>0</th>\n",
       "      <td>1730</td>\n",
       "    </tr>\n",
       "  </tbody>\n",
       "</table>\n",
       "</div>"
      ],
      "text/plain": [
       "   Number of NULL Columns\n",
       "0                    1730"
      ]
     },
     "execution_count": 10,
     "metadata": {},
     "output_type": "execute_result"
    }
   ],
   "source": [
    "output= \"SELECT count(*) from tweet where urls='NO_URL'\"\n",
    "cursor.execute(output)\n",
    "pd.DataFrame(cursor.fetchall(), columns=['Number of NULL Columns'])"
   ]
  },
  {
   "cell_type": "markdown",
   "metadata": {},
   "source": [
    "## 9. In a text field count all of rows in the columns that contain the letter 'a'"
   ]
  },
  {
   "cell_type": "code",
   "execution_count": 11,
   "metadata": {},
   "outputs": [
    {
     "data": {
      "text/html": [
       "<div>\n",
       "<style scoped>\n",
       "    .dataframe tbody tr th:only-of-type {\n",
       "        vertical-align: middle;\n",
       "    }\n",
       "\n",
       "    .dataframe tbody tr th {\n",
       "        vertical-align: top;\n",
       "    }\n",
       "\n",
       "    .dataframe thead th {\n",
       "        text-align: right;\n",
       "    }\n",
       "</style>\n",
       "<table border=\"1\" class=\"dataframe\">\n",
       "  <thead>\n",
       "    <tr style=\"text-align: right;\">\n",
       "      <th></th>\n",
       "      <th>Count</th>\n",
       "    </tr>\n",
       "  </thead>\n",
       "  <tbody>\n",
       "    <tr>\n",
       "      <th>0</th>\n",
       "      <td>3987</td>\n",
       "    </tr>\n",
       "  </tbody>\n",
       "</table>\n",
       "</div>"
      ],
      "text/plain": [
       "   Count\n",
       "0   3987"
      ]
     },
     "execution_count": 11,
     "metadata": {},
     "output_type": "execute_result"
    }
   ],
   "source": [
    "output= \"SELECT count(*) from tweet where tweet_content like '%a%' \"\n",
    "cursor.execute(output)\n",
    "pd.DataFrame(cursor.fetchall(), columns=['Count'])"
   ]
  },
  {
   "cell_type": "markdown",
   "metadata": {},
   "source": [
    "## 10. Subselect columns using a subquery"
   ]
  },
  {
   "cell_type": "code",
   "execution_count": 12,
   "metadata": {
    "scrolled": true
   },
   "outputs": [
    {
     "data": {
      "text/html": [
       "<div>\n",
       "<style scoped>\n",
       "    .dataframe tbody tr th:only-of-type {\n",
       "        vertical-align: middle;\n",
       "    }\n",
       "\n",
       "    .dataframe tbody tr th {\n",
       "        vertical-align: top;\n",
       "    }\n",
       "\n",
       "    .dataframe thead th {\n",
       "        text-align: right;\n",
       "    }\n",
       "</style>\n",
       "<table border=\"1\" class=\"dataframe\">\n",
       "  <thead>\n",
       "    <tr style=\"text-align: right;\">\n",
       "      <th></th>\n",
       "      <th>tag_id</th>\n",
       "      <th>Count</th>\n",
       "    </tr>\n",
       "  </thead>\n",
       "  <tbody>\n",
       "    <tr>\n",
       "      <th>0</th>\n",
       "      <td>661</td>\n",
       "      <td>382</td>\n",
       "    </tr>\n",
       "    <tr>\n",
       "      <th>1</th>\n",
       "      <td>665</td>\n",
       "      <td>285</td>\n",
       "    </tr>\n",
       "    <tr>\n",
       "      <th>2</th>\n",
       "      <td>669</td>\n",
       "      <td>184</td>\n",
       "    </tr>\n",
       "    <tr>\n",
       "      <th>3</th>\n",
       "      <td>664</td>\n",
       "      <td>175</td>\n",
       "    </tr>\n",
       "    <tr>\n",
       "      <th>4</th>\n",
       "      <td>670</td>\n",
       "      <td>125</td>\n",
       "    </tr>\n",
       "    <tr>\n",
       "      <th>5</th>\n",
       "      <td>675</td>\n",
       "      <td>110</td>\n",
       "    </tr>\n",
       "    <tr>\n",
       "      <th>6</th>\n",
       "      <td>663</td>\n",
       "      <td>105</td>\n",
       "    </tr>\n",
       "    <tr>\n",
       "      <th>7</th>\n",
       "      <td>690</td>\n",
       "      <td>96</td>\n",
       "    </tr>\n",
       "    <tr>\n",
       "      <th>8</th>\n",
       "      <td>730</td>\n",
       "      <td>42</td>\n",
       "    </tr>\n",
       "    <tr>\n",
       "      <th>9</th>\n",
       "      <td>686</td>\n",
       "      <td>38</td>\n",
       "    </tr>\n",
       "  </tbody>\n",
       "</table>\n",
       "</div>"
      ],
      "text/plain": [
       "  tag_id  Count\n",
       "0    661    382\n",
       "1    665    285\n",
       "2    669    184\n",
       "3    664    175\n",
       "4    670    125\n",
       "5    675    110\n",
       "6    663    105\n",
       "7    690     96\n",
       "8    730     42\n",
       "9    686     38"
      ]
     },
     "execution_count": 12,
     "metadata": {},
     "output_type": "execute_result"
    }
   ],
   "source": [
    "output= \"select tag_id, count(tag_id) as pm from (select tag_id,date as dt from tweet_tags inner join tweet_details where tweet_tags.tweet_id=tweet_details.tweet_id) where dt='2018-02-26' group by tag_id order by pm desc limit 10 \"\n",
    "cursor.execute(output)\n",
    "pd.DataFrame(cursor.fetchall(), columns=['tag_id','Count'])"
   ]
  },
  {
   "cell_type": "markdown",
   "metadata": {},
   "source": [
    "## 11. Computationally what is the most expensive operation in the relational data model?"
   ]
  },
  {
   "cell_type": "markdown",
   "metadata": {},
   "source": [
    "SQL joins are computationally the most expensive operation in relational databases. \n",
    "1. If there is no indexing in the table, every record in the 1st table must be compared with each record of 2nd table which gives us the complexity of O(M*N)\n",
    "2. A cross joint will always be O(N^2), since it has to result in N^2 records."
   ]
  },
  {
   "cell_type": "markdown",
   "metadata": {},
   "source": [
    "## 12. Write a function to calculate something relevant to your project. Show that it works."
   ]
  },
  {
   "cell_type": "markdown",
   "metadata": {},
   "source": [
    "```\n",
    "DELIMITER //\n",
    "\n",
    "CREATE FUNCTION getRetweet(idm  varchar(20)) \n",
    "RETURNS FLOAT \n",
    "BEGIN \n",
    "DECLARE pm FLOAT; \n",
    "SET pm:=0; \n",
    "SELECT retweets into  pm from retweets where id=idm; \n",
    "RETURN pm; \n",
    "END//\n",
    "```\n",
    "\n",
    "![Alt text](images/functionOutput.png?raw=true \"Function Output\" )"
   ]
  },
  {
   "cell_type": "markdown",
   "metadata": {},
   "source": [
    "## 13. When two tables are joined in a relational database what is the resulting data structure?"
   ]
  },
  {
   "cell_type": "markdown",
   "metadata": {},
   "source": [
    "When we join two tables, we get a new table with all the columns that we selected in the query. \n",
    "\n",
    "This generated output is discarded as soon as the work of the query is completed. \n",
    "For Example Consider the following query"
   ]
  },
  {
   "cell_type": "code",
   "execution_count": 13,
   "metadata": {},
   "outputs": [
    {
     "data": {
      "text/html": [
       "<div>\n",
       "<style scoped>\n",
       "    .dataframe tbody tr th:only-of-type {\n",
       "        vertical-align: middle;\n",
       "    }\n",
       "\n",
       "    .dataframe tbody tr th {\n",
       "        vertical-align: top;\n",
       "    }\n",
       "\n",
       "    .dataframe thead th {\n",
       "        text-align: right;\n",
       "    }\n",
       "</style>\n",
       "<table border=\"1\" class=\"dataframe\">\n",
       "  <thead>\n",
       "    <tr style=\"text-align: right;\">\n",
       "      <th></th>\n",
       "      <th>tag_id</th>\n",
       "      <th>Sum</th>\n",
       "    </tr>\n",
       "  </thead>\n",
       "  <tbody>\n",
       "    <tr>\n",
       "      <th>0</th>\n",
       "      <td>661</td>\n",
       "      <td>52684</td>\n",
       "    </tr>\n",
       "    <tr>\n",
       "      <th>1</th>\n",
       "      <td>664</td>\n",
       "      <td>40943</td>\n",
       "    </tr>\n",
       "    <tr>\n",
       "      <th>2</th>\n",
       "      <td>665</td>\n",
       "      <td>40783</td>\n",
       "    </tr>\n",
       "  </tbody>\n",
       "</table>\n",
       "</div>"
      ],
      "text/plain": [
       "  tag_id    Sum\n",
       "0    661  52684\n",
       "1    664  40943\n",
       "2    665  40783"
      ]
     },
     "execution_count": 13,
     "metadata": {},
     "output_type": "execute_result"
    }
   ],
   "source": [
    "output= \" select tag_id, sum(retweets) as crt from tweet_details as td inner join tweet_tags as tt where td.tweet_id=tt.tweet_id group by tag_id order by crt desc limit 3; \"\n",
    "cursor.execute(output)\n",
    "pd.DataFrame(cursor.fetchall(), columns=['tag_id','Sum'])"
   ]
  },
  {
   "cell_type": "markdown",
   "metadata": {},
   "source": [
    "Here we can see that only the selected two columns Tag_id and Sum are displayed in a tabular format. "
   ]
  },
  {
   "cell_type": "markdown",
   "metadata": {},
   "source": [
    "## 14. Select and filter some data from a table created by a join."
   ]
  },
  {
   "cell_type": "code",
   "execution_count": 14,
   "metadata": {},
   "outputs": [
    {
     "data": {
      "text/html": [
       "<div>\n",
       "<style scoped>\n",
       "    .dataframe tbody tr th:only-of-type {\n",
       "        vertical-align: middle;\n",
       "    }\n",
       "\n",
       "    .dataframe tbody tr th {\n",
       "        vertical-align: top;\n",
       "    }\n",
       "\n",
       "    .dataframe thead th {\n",
       "        text-align: right;\n",
       "    }\n",
       "</style>\n",
       "<table border=\"1\" class=\"dataframe\">\n",
       "  <thead>\n",
       "    <tr style=\"text-align: right;\">\n",
       "      <th></th>\n",
       "      <th>tag_id</th>\n",
       "      <th>Sum</th>\n",
       "    </tr>\n",
       "  </thead>\n",
       "  <tbody>\n",
       "    <tr>\n",
       "      <th>0</th>\n",
       "      <td>661</td>\n",
       "      <td>52684</td>\n",
       "    </tr>\n",
       "    <tr>\n",
       "      <th>1</th>\n",
       "      <td>664</td>\n",
       "      <td>40943</td>\n",
       "    </tr>\n",
       "    <tr>\n",
       "      <th>2</th>\n",
       "      <td>665</td>\n",
       "      <td>40783</td>\n",
       "    </tr>\n",
       "    <tr>\n",
       "      <th>3</th>\n",
       "      <td>669</td>\n",
       "      <td>30525</td>\n",
       "    </tr>\n",
       "    <tr>\n",
       "      <th>4</th>\n",
       "      <td>801</td>\n",
       "      <td>15816</td>\n",
       "    </tr>\n",
       "    <tr>\n",
       "      <th>5</th>\n",
       "      <td>807</td>\n",
       "      <td>14407</td>\n",
       "    </tr>\n",
       "    <tr>\n",
       "      <th>6</th>\n",
       "      <td>675</td>\n",
       "      <td>14302</td>\n",
       "    </tr>\n",
       "    <tr>\n",
       "      <th>7</th>\n",
       "      <td>670</td>\n",
       "      <td>12275</td>\n",
       "    </tr>\n",
       "  </tbody>\n",
       "</table>\n",
       "</div>"
      ],
      "text/plain": [
       "  tag_id    Sum\n",
       "0    661  52684\n",
       "1    664  40943\n",
       "2    665  40783\n",
       "3    669  30525\n",
       "4    801  15816\n",
       "5    807  14407\n",
       "6    675  14302\n",
       "7    670  12275"
      ]
     },
     "execution_count": 14,
     "metadata": {},
     "output_type": "execute_result"
    }
   ],
   "source": [
    "output= \" select tag_id, sum(retweets) as crt from tweet_details as td inner join tweet_tags as tt where td.tweet_id=tt.tweet_id group by tag_id order by crt desc limit 8; \"\n",
    "cursor.execute(output)\n",
    "pd.DataFrame(cursor.fetchall(), columns=['tag_id','Sum'])"
   ]
  },
  {
   "cell_type": "markdown",
   "metadata": {},
   "source": [
    "## 15. Why not put all the data in one big table and avoid all of these joins?"
   ]
  },
  {
   "cell_type": "markdown",
   "metadata": {},
   "source": [
    "##### Relationship\n",
    "1. If the relationship between multiple colums is one-to-one then it better to store the data in one table, since it reduces the number of joins the table has to do. \n",
    "2. If the relationship between two tables in one-to-many, then it will be better to split into seperate tables to reduce duplicate data. Duplicate data wastes lots of storage and cache space and makes database harder to maintain. \n",
    "\n",
    "##### Computation \n",
    "1. We should always start by 3NF form and only denormalise if we find a specific performance problem. \n",
    "2. Also, by storing all the data in a single table, makes querying the table expensive as querying a large table for a single value is more costly than querying two small tables. \n",
    "3. Also, by storing it in one table and duplicating data, we run a risk of allowing inconsistant data to be inserted into database thus nullifying one of the core properties of Relational databases (ACID)\n",
    "4. When we store all the data in a single large table, if a remote server needs a single value for the table, entire table needs to be transferred through network, which increases network transmission times. If the data is stored in normalised form, this can be avoided. \n",
    "\n",
    "Thus, even though Joins are expensive, there are many factors to be considered while designing a database. Joins are needed only when we need data from two tables, where rest of the above reasons together combined can be more expensive than joins. \n",
    "Also, we can reduce repeated joins by creating a view of the table with joins and query it. "
   ]
  },
  {
   "cell_type": "markdown",
   "metadata": {},
   "source": [
    "## 16. Why create views?"
   ]
  },
  {
   "cell_type": "markdown",
   "metadata": {},
   "source": [
    "Creating views has several benifits.\n",
    "\n",
    "##### 1. Views can hide complexity\n",
    "If we have a query thar requires joining several tables or has a comples logic/ calculations, we can create a view and query it just like tables. THus, a view is encapsulation of a complex or expensive query.\n",
    "\n",
    "##### 2. Views can be used as a security mechanism\n",
    "With a view, we can select certain columns and/or rows from a table, and can set permissions on the view instead of the underlying tables. This allows surfacing only the data that a user needs to see and rest of the data can be hidden from the user. \n",
    "\n",
    "##### 3. To Denormalise data for reporting purpose\n",
    "We can use a view to denormalise and/ or aggregate the tables. This results in reducing the redundancy in writing the queries also maximizing the performance of the database. \n",
    "\n",
    "##### 4. Refactoring Database\n",
    "We can hide the change so that the old code does not see it by creating a view. "
   ]
  },
  {
   "cell_type": "markdown",
   "metadata": {},
   "source": [
    "## 17. Select and filter some data from a table created by a view."
   ]
  },
  {
   "cell_type": "code",
   "execution_count": 15,
   "metadata": {},
   "outputs": [
    {
     "data": {
      "text/plain": [
       "<sqlite3.Cursor at 0x10df20110>"
      ]
     },
     "execution_count": 15,
     "metadata": {},
     "output_type": "execute_result"
    }
   ],
   "source": [
    "output= \"Create view ViewDemo as select user_id, tweet_content, retweets from tweet as t inner join tweet_details as td where t.tweet_id=td.tweet_id order by td.retweets desc;\"\n",
    "cursor.execute(output)\n",
    "# pd.DataFrame(cursor.fetchall(), columns=['user_id','Tweet Content','Retweets'])"
   ]
  },
  {
   "cell_type": "code",
   "execution_count": 16,
   "metadata": {},
   "outputs": [
    {
     "data": {
      "text/html": [
       "<div>\n",
       "<style scoped>\n",
       "    .dataframe tbody tr th:only-of-type {\n",
       "        vertical-align: middle;\n",
       "    }\n",
       "\n",
       "    .dataframe tbody tr th {\n",
       "        vertical-align: top;\n",
       "    }\n",
       "\n",
       "    .dataframe thead th {\n",
       "        text-align: right;\n",
       "    }\n",
       "</style>\n",
       "<table border=\"1\" class=\"dataframe\">\n",
       "  <thead>\n",
       "    <tr style=\"text-align: right;\">\n",
       "      <th></th>\n",
       "      <th>user_id</th>\n",
       "      <th>Tweet Content</th>\n",
       "      <th>Retweets</th>\n",
       "    </tr>\n",
       "  </thead>\n",
       "  <tbody>\n",
       "    <tr>\n",
       "      <th>0</th>\n",
       "      <td>@Absolute_Virtue</td>\n",
       "      <td>RT @liu_mingyu: Given a content photo and a st...</td>\n",
       "      <td>3439</td>\n",
       "    </tr>\n",
       "  </tbody>\n",
       "</table>\n",
       "</div>"
      ],
      "text/plain": [
       "            user_id                                      Tweet Content  \\\n",
       "0  @Absolute_Virtue  RT @liu_mingyu: Given a content photo and a st...   \n",
       "\n",
       "   Retweets  \n",
       "0      3439  "
      ]
     },
     "execution_count": 16,
     "metadata": {},
     "output_type": "execute_result"
    }
   ],
   "source": [
    "output= \"Select * from ViewDemo where retweets=3439\"\n",
    "cursor.execute(output)\n",
    "pd.DataFrame(cursor.fetchall(), columns=['user_id','Tweet Content','Retweets'])"
   ]
  },
  {
   "cell_type": "markdown",
   "metadata": {},
   "source": [
    "## 18. Why create temporary tables?"
   ]
  },
  {
   "cell_type": "markdown",
   "metadata": {},
   "source": [
    "A Temporary Table is only visible to the current session and is dropped automatically once the session ends. This means that two different sessions can use the same temporary table name without conflicting with each other or with an existing non-temporary table of the same name.\n",
    "\n",
    "This has several advantages,\n",
    "1. We can pull data from various tables, do some work on that data and then combine everything into one result set. \n",
    "2. We can use temporary table for tilting the data i.e. turning rows to columns, etc. which we need for advance processing. \n"
   ]
  },
  {
   "cell_type": "markdown",
   "metadata": {},
   "source": [
    "## 19. Select and filter some data from a table created by a temporary table."
   ]
  },
  {
   "cell_type": "code",
   "execution_count": 17,
   "metadata": {},
   "outputs": [
    {
     "data": {
      "text/plain": [
       "<sqlite3.Cursor at 0x10df20110>"
      ]
     },
     "execution_count": 17,
     "metadata": {},
     "output_type": "execute_result"
    }
   ],
   "source": [
    "output= \"CREATE TEMPORARY TABLE ABC AS select user_id, tweet_content, retweets from tweet as t inner join tweet_details as td where t.tweet_id=td.tweet_id order by td.retweets desc\"\n",
    "cursor.execute(output)\n",
    "# pd.DataFrame(cursor.fetchall(), columns=['user_id','Tweet Content','Retweets'])"
   ]
  },
  {
   "cell_type": "code",
   "execution_count": 18,
   "metadata": {},
   "outputs": [
    {
     "data": {
      "text/html": [
       "<div>\n",
       "<style scoped>\n",
       "    .dataframe tbody tr th:only-of-type {\n",
       "        vertical-align: middle;\n",
       "    }\n",
       "\n",
       "    .dataframe tbody tr th {\n",
       "        vertical-align: top;\n",
       "    }\n",
       "\n",
       "    .dataframe thead th {\n",
       "        text-align: right;\n",
       "    }\n",
       "</style>\n",
       "<table border=\"1\" class=\"dataframe\">\n",
       "  <thead>\n",
       "    <tr style=\"text-align: right;\">\n",
       "      <th></th>\n",
       "      <th>user_id</th>\n",
       "      <th>Tweet Content</th>\n",
       "      <th>Retweets</th>\n",
       "    </tr>\n",
       "  </thead>\n",
       "  <tbody>\n",
       "    <tr>\n",
       "      <th>0</th>\n",
       "      <td>@metfan62</td>\n",
       "      <td>RT @JohnBrennan: You show an amazing albeit un...</td>\n",
       "      <td>17503</td>\n",
       "    </tr>\n",
       "    <tr>\n",
       "      <th>1</th>\n",
       "      <td>@Chewster2e</td>\n",
       "      <td>RT @JohnBrennan: You show an amazing albeit un...</td>\n",
       "      <td>17503</td>\n",
       "    </tr>\n",
       "    <tr>\n",
       "      <th>2</th>\n",
       "      <td>@detroitrueblue</td>\n",
       "      <td>RT @JohnBrennan: You show an amazing albeit un...</td>\n",
       "      <td>17503</td>\n",
       "    </tr>\n",
       "    <tr>\n",
       "      <th>3</th>\n",
       "      <td>@lisaelyea</td>\n",
       "      <td>RT @JohnBrennan: You show an amazing albeit un...</td>\n",
       "      <td>15580</td>\n",
       "    </tr>\n",
       "    <tr>\n",
       "      <th>4</th>\n",
       "      <td>@MadameLazet</td>\n",
       "      <td>RT @mcuban: Automation is going to cause unemp...</td>\n",
       "      <td>3582</td>\n",
       "    </tr>\n",
       "    <tr>\n",
       "      <th>5</th>\n",
       "      <td>@invokermidas</td>\n",
       "      <td>RT @dbrainio: With Dbrain AI apps creation bec...</td>\n",
       "      <td>3552</td>\n",
       "    </tr>\n",
       "    <tr>\n",
       "      <th>6</th>\n",
       "      <td>@black_matvey</td>\n",
       "      <td>RT @dbrainio: With Dbrain AI apps creation bec...</td>\n",
       "      <td>3552</td>\n",
       "    </tr>\n",
       "    <tr>\n",
       "      <th>7</th>\n",
       "      <td>@Absolute_Virtue</td>\n",
       "      <td>RT @liu_mingyu: Given a content photo and a st...</td>\n",
       "      <td>3439</td>\n",
       "    </tr>\n",
       "    <tr>\n",
       "      <th>8</th>\n",
       "      <td>@Blx0eejDHM6VX25</td>\n",
       "      <td>RT @dbrainio: With Dbrain AI apps creation bec...</td>\n",
       "      <td>2393</td>\n",
       "    </tr>\n",
       "    <tr>\n",
       "      <th>9</th>\n",
       "      <td>@LgPHVgicLey8Mcv</td>\n",
       "      <td>RT @dbrainio: With Dbrain AI apps creation bec...</td>\n",
       "      <td>2393</td>\n",
       "    </tr>\n",
       "  </tbody>\n",
       "</table>\n",
       "</div>"
      ],
      "text/plain": [
       "            user_id                                      Tweet Content  \\\n",
       "0         @metfan62  RT @JohnBrennan: You show an amazing albeit un...   \n",
       "1       @Chewster2e  RT @JohnBrennan: You show an amazing albeit un...   \n",
       "2   @detroitrueblue  RT @JohnBrennan: You show an amazing albeit un...   \n",
       "3        @lisaelyea  RT @JohnBrennan: You show an amazing albeit un...   \n",
       "4      @MadameLazet  RT @mcuban: Automation is going to cause unemp...   \n",
       "5     @invokermidas  RT @dbrainio: With Dbrain AI apps creation bec...   \n",
       "6     @black_matvey  RT @dbrainio: With Dbrain AI apps creation bec...   \n",
       "7  @Absolute_Virtue  RT @liu_mingyu: Given a content photo and a st...   \n",
       "8  @Blx0eejDHM6VX25  RT @dbrainio: With Dbrain AI apps creation bec...   \n",
       "9  @LgPHVgicLey8Mcv  RT @dbrainio: With Dbrain AI apps creation bec...   \n",
       "\n",
       "   Retweets  \n",
       "0     17503  \n",
       "1     17503  \n",
       "2     17503  \n",
       "3     15580  \n",
       "4      3582  \n",
       "5      3552  \n",
       "6      3552  \n",
       "7      3439  \n",
       "8      2393  \n",
       "9      2393  "
      ]
     },
     "execution_count": 18,
     "metadata": {},
     "output_type": "execute_result"
    }
   ],
   "source": [
    "output= \"Select * from ABC limit 10\"\n",
    "cursor.execute(output)\n",
    "pd.DataFrame(cursor.fetchall(), columns=['user_id','Tweet Content','Retweets'])"
   ]
  },
  {
   "cell_type": "markdown",
   "metadata": {},
   "source": [
    "## 20. Insert some data in to a table."
   ]
  },
  {
   "cell_type": "code",
   "execution_count": 19,
   "metadata": {},
   "outputs": [
    {
     "data": {
      "text/html": [
       "<div>\n",
       "<style scoped>\n",
       "    .dataframe tbody tr th:only-of-type {\n",
       "        vertical-align: middle;\n",
       "    }\n",
       "\n",
       "    .dataframe tbody tr th {\n",
       "        vertical-align: top;\n",
       "    }\n",
       "\n",
       "    .dataframe thead th {\n",
       "        text-align: right;\n",
       "    }\n",
       "</style>\n",
       "<table border=\"1\" class=\"dataframe\">\n",
       "  <thead>\n",
       "    <tr style=\"text-align: right;\">\n",
       "      <th></th>\n",
       "      <th>User_id</th>\n",
       "      <th>User Name</th>\n",
       "      <th>Following</th>\n",
       "      <th>Followers</th>\n",
       "      <th>TweetCount</th>\n",
       "    </tr>\n",
       "  </thead>\n",
       "  <tbody>\n",
       "  </tbody>\n",
       "</table>\n",
       "</div>"
      ],
      "text/plain": [
       "Empty DataFrame\n",
       "Columns: [User_id, User Name, Following, Followers, TweetCount]\n",
       "Index: []"
      ]
     },
     "execution_count": 19,
     "metadata": {},
     "output_type": "execute_result"
    }
   ],
   "source": [
    "output= \"SELECT * from user where user_id='@Pratik'\"\n",
    "cursor.execute(output)\n",
    "pd.DataFrame(cursor.fetchall(), columns=['User_id','User Name','Following','Followers','TweetCount'])"
   ]
  },
  {
   "cell_type": "code",
   "execution_count": 20,
   "metadata": {},
   "outputs": [
    {
     "data": {
      "text/plain": [
       "<sqlite3.Cursor at 0x10df20110>"
      ]
     },
     "execution_count": 20,
     "metadata": {},
     "output_type": "execute_result"
    }
   ],
   "source": [
    "output= \"Insert into user values('@Pratik','Demo Add User', 100000,10 , 9999)\"\n",
    "cursor.execute(output)"
   ]
  },
  {
   "cell_type": "code",
   "execution_count": 21,
   "metadata": {},
   "outputs": [
    {
     "data": {
      "text/html": [
       "<div>\n",
       "<style scoped>\n",
       "    .dataframe tbody tr th:only-of-type {\n",
       "        vertical-align: middle;\n",
       "    }\n",
       "\n",
       "    .dataframe tbody tr th {\n",
       "        vertical-align: top;\n",
       "    }\n",
       "\n",
       "    .dataframe thead th {\n",
       "        text-align: right;\n",
       "    }\n",
       "</style>\n",
       "<table border=\"1\" class=\"dataframe\">\n",
       "  <thead>\n",
       "    <tr style=\"text-align: right;\">\n",
       "      <th></th>\n",
       "      <th>User_id</th>\n",
       "      <th>User Name</th>\n",
       "      <th>Followers</th>\n",
       "      <th>Following</th>\n",
       "      <th>TweetCount</th>\n",
       "    </tr>\n",
       "  </thead>\n",
       "  <tbody>\n",
       "    <tr>\n",
       "      <th>0</th>\n",
       "      <td>@Pratik</td>\n",
       "      <td>Demo Add User</td>\n",
       "      <td>100000</td>\n",
       "      <td>10</td>\n",
       "      <td>9999</td>\n",
       "    </tr>\n",
       "  </tbody>\n",
       "</table>\n",
       "</div>"
      ],
      "text/plain": [
       "   User_id      User Name  Followers  Following  TweetCount\n",
       "0  @Pratik  Demo Add User     100000         10        9999"
      ]
     },
     "execution_count": 21,
     "metadata": {},
     "output_type": "execute_result"
    }
   ],
   "source": [
    "output= \"SELECT * from user where user_id='@Pratik'\"\n",
    "cursor.execute(output)\n",
    "pd.DataFrame(cursor.fetchall(), columns=['User_id','User Name','Followers','Following','TweetCount'])"
   ]
  },
  {
   "cell_type": "markdown",
   "metadata": {},
   "source": [
    "## 21. Update some data in a table."
   ]
  },
  {
   "cell_type": "code",
   "execution_count": 22,
   "metadata": {},
   "outputs": [
    {
     "data": {
      "text/plain": [
       "<sqlite3.Cursor at 0x10df20110>"
      ]
     },
     "execution_count": 22,
     "metadata": {},
     "output_type": "execute_result"
    }
   ],
   "source": [
    "output= \"Update user SET following=50 where user_id='@Pratik'\"\n",
    "cursor.execute(output)\n",
    "# pd.DataFrame(cursor.fetchall(), columns=['User_id','User Name','Following','Followers','TweetCount'])"
   ]
  },
  {
   "cell_type": "code",
   "execution_count": 23,
   "metadata": {},
   "outputs": [
    {
     "data": {
      "text/html": [
       "<div>\n",
       "<style scoped>\n",
       "    .dataframe tbody tr th:only-of-type {\n",
       "        vertical-align: middle;\n",
       "    }\n",
       "\n",
       "    .dataframe tbody tr th {\n",
       "        vertical-align: top;\n",
       "    }\n",
       "\n",
       "    .dataframe thead th {\n",
       "        text-align: right;\n",
       "    }\n",
       "</style>\n",
       "<table border=\"1\" class=\"dataframe\">\n",
       "  <thead>\n",
       "    <tr style=\"text-align: right;\">\n",
       "      <th></th>\n",
       "      <th>User_id</th>\n",
       "      <th>User Name</th>\n",
       "      <th>Followers</th>\n",
       "      <th>Following</th>\n",
       "      <th>TweetCount</th>\n",
       "    </tr>\n",
       "  </thead>\n",
       "  <tbody>\n",
       "    <tr>\n",
       "      <th>0</th>\n",
       "      <td>@Pratik</td>\n",
       "      <td>Demo Add User</td>\n",
       "      <td>100000</td>\n",
       "      <td>50</td>\n",
       "      <td>9999</td>\n",
       "    </tr>\n",
       "  </tbody>\n",
       "</table>\n",
       "</div>"
      ],
      "text/plain": [
       "   User_id      User Name  Followers  Following  TweetCount\n",
       "0  @Pratik  Demo Add User     100000         50        9999"
      ]
     },
     "execution_count": 23,
     "metadata": {},
     "output_type": "execute_result"
    }
   ],
   "source": [
    "output= \"SELECT * from user where user_id='@Pratik'\"\n",
    "cursor.execute(output)\n",
    "pd.DataFrame(cursor.fetchall(), columns=['User_id','User Name','Followers','Following','TweetCount'])"
   ]
  },
  {
   "cell_type": "markdown",
   "metadata": {},
   "source": [
    "## 22. Delete some data a table."
   ]
  },
  {
   "cell_type": "code",
   "execution_count": 24,
   "metadata": {},
   "outputs": [
    {
     "data": {
      "text/plain": [
       "<sqlite3.Cursor at 0x10df20110>"
      ]
     },
     "execution_count": 24,
     "metadata": {},
     "output_type": "execute_result"
    }
   ],
   "source": [
    "output= \"Delete from user where user_id='@Pratik'\"\n",
    "cursor.execute(output)\n",
    "# pd.DataFrame(cursor.fetchall(), columns=['User_id','User Name','Followers','Following','TweetCount'])"
   ]
  },
  {
   "cell_type": "code",
   "execution_count": 25,
   "metadata": {},
   "outputs": [
    {
     "data": {
      "text/html": [
       "<div>\n",
       "<style scoped>\n",
       "    .dataframe tbody tr th:only-of-type {\n",
       "        vertical-align: middle;\n",
       "    }\n",
       "\n",
       "    .dataframe tbody tr th {\n",
       "        vertical-align: top;\n",
       "    }\n",
       "\n",
       "    .dataframe thead th {\n",
       "        text-align: right;\n",
       "    }\n",
       "</style>\n",
       "<table border=\"1\" class=\"dataframe\">\n",
       "  <thead>\n",
       "    <tr style=\"text-align: right;\">\n",
       "      <th></th>\n",
       "      <th>User_id</th>\n",
       "      <th>User Name</th>\n",
       "      <th>Followers</th>\n",
       "      <th>Following</th>\n",
       "      <th>TweetCount</th>\n",
       "    </tr>\n",
       "  </thead>\n",
       "  <tbody>\n",
       "  </tbody>\n",
       "</table>\n",
       "</div>"
      ],
      "text/plain": [
       "Empty DataFrame\n",
       "Columns: [User_id, User Name, Followers, Following, TweetCount]\n",
       "Index: []"
      ]
     },
     "execution_count": 25,
     "metadata": {},
     "output_type": "execute_result"
    }
   ],
   "source": [
    "output= \"SELECT * from user where user_id='@Pratik'\"\n",
    "cursor.execute(output)\n",
    "pd.DataFrame(cursor.fetchall(), columns=['User_id','User Name','Followers','Following','TweetCount'])"
   ]
  },
  {
   "cell_type": "markdown",
   "metadata": {},
   "source": [
    "## 23. Create a stored routine that does something useful for your project."
   ]
  },
  {
   "cell_type": "markdown",
   "metadata": {},
   "source": [
    "```\n",
    "CREATE FUNCTION diffrt(idm  varchar(20),idb varchar(20))\n",
    "RETURNS FLOAT\n",
    "BEGIN\n",
    "DECLARE pm FLOAT;\n",
    "DECLARE pmb FLOAT;\n",
    "SET pm:=0;\n",
    "SET pmb:=0;\n",
    "SELECT retweets into  pm from retweets where id=idm;\n",
    "SELECT retweets into  pmb from retweets where id=idb;\n",
    "Return pm-pmb;\n",
    "END//\n",
    "```\n",
    "\n",
    "![Alt text](images/routineout.png?raw=true \"Function Output\" )"
   ]
  },
  {
   "cell_type": "markdown",
   "metadata": {},
   "source": [
    "## 24. Create a stored procedures that does something useful for your project."
   ]
  },
  {
   "cell_type": "markdown",
   "metadata": {},
   "source": [
    "```\n",
    "CREATE PROCEDURE tagsofuser(usr varchar(50))\n",
    "BEGIN\n",
    "SELECT tag_id from user_tags where user_id=usr;\n",
    "END//\n",
    "```\n",
    "\n",
    "![Alt text](images/outputProcedure.png?raw=true \"Procedure Execution\" )"
   ]
  },
  {
   "cell_type": "markdown",
   "metadata": {},
   "source": [
    "## 25. Create a index on a non-key attribute. Does it help?"
   ]
  },
  {
   "cell_type": "markdown",
   "metadata": {},
   "source": [
    "![Alt text](images/indexing.png?raw=true \"Trigger Demo\")"
   ]
  },
  {
   "cell_type": "markdown",
   "metadata": {},
   "source": [
    "As we can see above, the query without indexing takes  0.000081 seconds to execute. But the same query takes 0.000066 seconds to execute with indexing. \n",
    "\n",
    "Thus we can see that indexing helps us in this case. \n"
   ]
  },
  {
   "cell_type": "markdown",
   "metadata": {},
   "source": [
    "## 26. Create a trigger."
   ]
  },
  {
   "cell_type": "markdown",
   "metadata": {},
   "source": [
    "##### Creating Table for User Log"
   ]
  },
  {
   "cell_type": "markdown",
   "metadata": {},
   "source": [
    "![Alt text](images/createTable.png?raw=true \"Create Table\")"
   ]
  },
  {
   "cell_type": "markdown",
   "metadata": {},
   "source": [
    "##### Creating Trigger"
   ]
  },
  {
   "cell_type": "markdown",
   "metadata": {},
   "source": [
    "![Alt text](images/createTrigger.png?raw=true \"Create Trigger\" )\n",
    "\n",
    "```\n",
    "CREATE TRIGGER USERLOG AFTER INSERT \n",
    "ON user\n",
    "BEGIN\n",
    "INSERT INTO user_log values(new.user_id, datetime('now'));\n",
    "END;\n",
    "```"
   ]
  },
  {
   "cell_type": "markdown",
   "metadata": {},
   "source": [
    "##### Trigger Demo"
   ]
  },
  {
   "cell_type": "markdown",
   "metadata": {},
   "source": [
    "![Alt text](images/triggerdemo.png?raw=true \"Trigger Demo\")"
   ]
  },
  {
   "cell_type": "markdown",
   "metadata": {},
   "source": [
    "## 27. Create a transaction."
   ]
  },
  {
   "cell_type": "markdown",
   "metadata": {},
   "source": [
    "![Alt text](images/transaction.png?raw=true \"Transaction Demo\")"
   ]
  },
  {
   "cell_type": "markdown",
   "metadata": {},
   "source": [
    "## 28. Explain to an eight year old what are the first three Normal Forms."
   ]
  },
  {
   "cell_type": "markdown",
   "metadata": {},
   "source": [
    "There are 3 common forms of Normalization. i.e. 1st, 2nd and 3rd Normal Form. \n",
    "\n",
    "These Normalization rules are progressive i.e. to be in 3rd normal form, the data must satisfy 2nd normal. \n",
    "Similarly, to be in 2nd normal form, the data must satisfy 1st normal form. \n",
    "\n",
    "**`First Normal Form`** \n",
    "\n",
    "The data is stored in a relational table and each column contains a atomic value i.e only a single value\n",
    "and there are no repeating group of columns i.e collection of columns containing similar kinds of values in a table.\n",
    "\n",
    "For example, in the case of a table called Person with columns named Name, Family Name, Phone 1, Phone 2, Phone 3, Phone 4 ... etc the collection of columns Phone N is referred to as a repeating group and assumed to be in violation of 1NF even though it is not a repeating group.\n",
    "\n",
    "\n",
    "**`Second Normal Form`**\n",
    "\n",
    "The data stored in the table is in 1st normal form and all the columns in the table depend on the primary key of the table. \n",
    "\n",
    "A Primary Key is a field in the table which uniquely identifies every row in the table. All the primary keys must contain a unique record and it cannot be null i.e without a value. \n",
    "\n",
    "**`Third Normal Form`**\n",
    "\n",
    "The data stored in the table must be in 2nd normal form and all of its columns are non-transitively dependent on the primary key of the table. \n",
    "\n",
    "By non-transitive dependency, we mean that there should not be any indirect relation between the columns and the primary key of the table. \n",
    "\n",
    "for example, in a table of College courses, if we have columns like\n",
    "```\n",
    "Course_id-----CRN-----Professor_name-----Course_name\n",
    "```\n",
    "Here, CRN is dependent on Course_id but Professor_name is dependent on CRN, thus there is a transitive dependency between Professor_name and Course_id i.e. there is an indirect dependency between Professor_name and Course_id. This is a voilation of 3rd Normal Form, thus, it is not acceptable.  \n"
   ]
  },
  {
   "cell_type": "code",
   "execution_count": null,
   "metadata": {},
   "outputs": [],
   "source": []
  }
 ],
 "metadata": {
  "kernelspec": {
   "display_name": "Python 2",
   "language": "python",
   "name": "python2"
  },
  "language_info": {
   "codemirror_mode": {
    "name": "ipython",
    "version": 2
   },
   "file_extension": ".py",
   "mimetype": "text/x-python",
   "name": "python",
   "nbconvert_exporter": "python",
   "pygments_lexer": "ipython2",
   "version": "2.7.10"
  }
 },
 "nbformat": 4,
 "nbformat_minor": 1
}
