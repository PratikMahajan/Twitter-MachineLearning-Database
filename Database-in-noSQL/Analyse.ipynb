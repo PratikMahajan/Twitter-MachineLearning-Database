{
 "cells": [
  {
   "cell_type": "markdown",
   "metadata": {
    "collapsed": true
   },
   "source": [
    "# Assignment 3\n",
    "\n",
    "Answer Questions On MongoDB"
   ]
  },
  {
   "cell_type": "code",
   "execution_count": 1,
   "metadata": {},
   "outputs": [],
   "source": [
    "#!/usr/bin/python\n",
    "from pymongo import MongoClient\n",
    "import sqlite3\n",
    "import json"
   ]
  },
  {
   "cell_type": "markdown",
   "metadata": {},
   "source": [
    "### Connecting to MongoDb"
   ]
  },
  {
   "cell_type": "code",
   "execution_count": 2,
   "metadata": {},
   "outputs": [],
   "source": [
    "client = MongoClient('localhost', 27017)\n",
    "db=client.assignment3\n",
    "user=db.user\n",
    "tweet=db.tweet"
   ]
  },
  {
   "cell_type": "markdown",
   "metadata": {},
   "source": [
    "### Collections are stored as:\n",
    "Collection user:\n",
    "{\n",
    "\t\"user_id\":,\n",
    "\t\"user_name\":,\n",
    "\t\"followers\":,\n",
    "\t\"following\":,\n",
    "\t\"tweet_count\":,\n",
    "\t\"hashtags\":[ ]\n",
    "}\n",
    "\n",
    "Collection tweet:\n",
    "{\n",
    "\t\"tweet_id\":,\n",
    "\t\"user_id\":,\n",
    "\t\"tweet_contents\":,\n",
    "\t\"urls\":,\n",
    "\t\"date\":,\n",
    "\t\"time\":,\n",
    "\t\"favourites\":,\n",
    "\t\"retweets\":,\n",
    "\t\"hashtags\":[ ]\n",
    "}"
   ]
  },
  {
   "cell_type": "markdown",
   "metadata": {},
   "source": [
    "### 1. Tags Associated With a Person"
   ]
  },
  {
   "cell_type": "code",
   "execution_count": 3,
   "metadata": {},
   "outputs": [
    {
     "name": "stdout",
     "output_type": "stream",
     "text": [
      "Enter twitter handle: @ScopeOnline\n"
     ]
    }
   ],
   "source": [
    "person= raw_input(\"Enter twitter handle: \")"
   ]
  },
  {
   "cell_type": "code",
   "execution_count": 4,
   "metadata": {},
   "outputs": [
    {
     "name": "stdout",
     "output_type": "stream",
     "text": [
      "[u'artificialintelligence', u'deeplearning', u'machinelearning', u'atomation']\n"
     ]
    }
   ],
   "source": [
    "result=user.find({\"user_id\":\"\"+person+\"\"})\n",
    "print list(result)[0]['hashtags']"
   ]
  },
  {
   "cell_type": "markdown",
   "metadata": {},
   "source": [
    "### 2. What Social Media users are linke other Social Media users"
   ]
  },
  {
   "cell_type": "code",
   "execution_count": 5,
   "metadata": {},
   "outputs": [
    {
     "name": "stdout",
     "output_type": "stream",
     "text": [
      "Enter twitter handle: @ScopeOnline\n"
     ]
    }
   ],
   "source": [
    "person= raw_input(\"Enter twitter handle: \")"
   ]
  },
  {
   "cell_type": "code",
   "execution_count": 6,
   "metadata": {},
   "outputs": [],
   "source": [
    "result=user.find({\"user_id\":\"\"+person+\"\"})\n",
    "queryHash= set(list(result)[0]['hashtags'])"
   ]
  },
  {
   "cell_type": "code",
   "execution_count": 7,
   "metadata": {},
   "outputs": [
    {
     "name": "stdout",
     "output_type": "stream",
     "text": [
      "@Tsundu_Mak\n",
      "@ScopeOnline\n",
      "@ArkangelScrap\n",
      "@Simone_Johnson1\n",
      "@EricMackC\n"
     ]
    }
   ],
   "source": [
    "Result=set()\n",
    "for search in user.find():\n",
    "    compareHash= set(search['hashtags'])\n",
    "    \n",
    "    resultSet= queryHash.intersection(compareHash)\n",
    "    a1=float(len(resultSet))\n",
    "    a2=float(len(queryHash))\n",
    "\n",
    "    try:\n",
    "        accr= a1/a2\n",
    "        # print a1\n",
    "        if accr > 0.75:\n",
    "            Result.add(search['user_id'])\n",
    "    except ZeroDivisionError:\n",
    "        a=0\n",
    "\n",
    "for x in Result:\n",
    "    print x\n",
    "if(len(Result)==0):\n",
    "    print \"None Found\""
   ]
  },
  {
   "cell_type": "markdown",
   "metadata": {},
   "source": [
    "### 3. What things are Popular in our Domain"
   ]
  },
  {
   "cell_type": "code",
   "execution_count": 8,
   "metadata": {},
   "outputs": [
    {
     "name": "stdout",
     "output_type": "stream",
     "text": [
      "ai\n",
      "machinelearning\n",
      "deeplearning\n",
      "bigdata\n",
      "datascience\n",
      "artificialintelligence\n",
      "neralnetworks\n",
      "iot\n",
      "blockchain\n",
      "atomation\n"
     ]
    }
   ],
   "source": [
    "resultDict= {}\n",
    "for search in tweet.find():\n",
    "    for x in set(search['hashtags']):\n",
    "        if x in resultDict:\n",
    "            resultDict[x]= resultDict[x]+1\n",
    "        else:\n",
    "            resultDict[x]=1\n",
    "sortDict = sorted(resultDict.items(), key=lambda x: x[1], reverse=True)\n",
    "\n",
    "for x in range(0,10):\n",
    "    print sortDict[x][0]"
   ]
  },
  {
   "cell_type": "markdown",
   "metadata": {},
   "source": [
    "### 4. What things are Trending in our Domain"
   ]
  },
  {
   "cell_type": "code",
   "execution_count": 9,
   "metadata": {},
   "outputs": [
    {
     "name": "stdout",
     "output_type": "stream",
     "text": [
      "Enter Date: 2018-02-26\n"
     ]
    }
   ],
   "source": [
    "datesel= raw_input(\"Enter Date: \")"
   ]
  },
  {
   "cell_type": "code",
   "execution_count": 10,
   "metadata": {},
   "outputs": [
    {
     "name": "stdout",
     "output_type": "stream",
     "text": [
      "ai\n",
      "machinelearning\n",
      "deeplearning\n",
      "bigdata\n",
      "datascience\n",
      "artificialintelligence\n",
      "neralnetworks\n",
      "iot\n",
      "blockchain\n",
      "iiot\n"
     ]
    }
   ],
   "source": [
    "for search in tweet.find({\"date\":\"\"+datesel+\"\"}):\n",
    "    for x in set(search['hashtags']):\n",
    "        if x in resultDict:\n",
    "            resultDict[x]= resultDict[x]+1\n",
    "        else:\n",
    "            resultDict[x]=1\n",
    "sortDict = sorted(resultDict.items(), key=lambda x: x[1], reverse=True)\n",
    "\n",
    "for x in range(0,10):\n",
    "    print sortDict[x][0]"
   ]
  }
 ],
 "metadata": {
  "kernelspec": {
   "display_name": "Python 2",
   "language": "python",
   "name": "python2"
  },
  "language_info": {
   "codemirror_mode": {
    "name": "ipython",
    "version": 2
   },
   "file_extension": ".py",
   "mimetype": "text/x-python",
   "name": "python",
   "nbconvert_exporter": "python",
   "pygments_lexer": "ipython2",
   "version": "2.7.10"
  }
 },
 "nbformat": 4,
 "nbformat_minor": 1
}
